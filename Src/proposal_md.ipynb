{
 "cells": [
  {
   "cell_type": "markdown",
   "id": "2b75f1f8",
   "metadata": {},
   "source": [
    "# 0. Title and Author\n",
    "\n",
    "* Fraud Detection in Financial transactions\n",
    "* Prepared for UMBC Data Science Master Degree Capstone by Dr Chaojie (Jay) Wang\n",
    "* Durga venkata Phanindra kumar Mulamreddy\n",
    "* [Github] (https://github.com/Phanid221)\n",
    "* [Linkedin] (https://www.linkedin.com/in/durga-venkata-phanindra-kumar-mulamreddy-19985114b/)\n",
    "* [Presentation File] (Will update later)\n",
    "* [Youtube video] (Will update the link later)\n"
   ]
  },
  {
   "cell_type": "markdown",
   "id": "e574bcee",
   "metadata": {},
   "source": [
    "# 1 .Background\n",
    "\n",
    "1. A typical and useful use of data science in the fields of finance and cybersecurity is the \"Fraud Detection in Financial Transactions\" project. Build a machine learning model for this project with the goal of accurately identifying fraudulent transactions in a collection of financial transaction records.\n",
    "\n",
    "2. There are many things in which the credability of transaction is quite questionable. For protecting financial institutions from fradualent transactions/ unauthorized transactions, identity theft which will lead to a substantial loss for the banks. It helps in preventing criminal activity. This fraud detection will boost the consumer confidence in utilizing online merchant platforms for their daily uise and many more.\n",
    "\n",
    "3. **Some of the research questions are mentioned below**\n",
    " * What are the most common types of fraud in financial transactions, and how have they evolved over time?\n",
    " * The key challenges that are going to be faced during the development and implementation of the project.\n",
    " * Applying different machine learning techniques to compare and improve the proficiency of the model.\n",
    " * How does the insights derived from the past historical data helps the model in detecting a better accurate prediction?\n",
    " * Does the size or extent of data will pose any changes in the accuracy of a model for prediction and how can the scalability challenges be addressed?\n",
    " "
   ]
  },
  {
   "cell_type": "markdown",
   "id": "933865d4",
   "metadata": {},
   "source": [
    "# 2. Data\n",
    "\n",
    "* Data was taken from the kaggle and the link for the data is provided below.\n",
    "* [Link to the data] (https://www.kaggle.com/datasets/ealaxi/paysim1)\n",
    "* Data Size (493.5 MB)\n",
    "* Data shape (6362620 of Rows and 11 Columns)\n",
    "- Data Dictionary\n",
    "| Column Name  | Data Type   | Definition                                     | Potential Values             | \n",
    "|--------------|-------------|------------------------------------------------|-----------------------------|\n",
    "| Step   | int         |    Maps a unit of time in the real world. Here 1 step is 1 hour       |                1 - 743         |\n",
    "| type        | object         | Mode of the payment. Cashin, CashOut, Debit, Payment and transfer                           |      CashOut 35%, payment 34%, other 31%                    |\n",
    "| Amount         | float| amount of the transaction                           | 0 - 92.4m                      |\n",
    "| nameOrig       | object         | Customer who started the transaction                        | Almost alkl are Unique values  |\n",
    "| oldbalanceOrg    | float         | initial balance before the transaction. | 0 - 59.6m          |\n",
    "| newbalanceOrig  | float         | customer's balance after the transaction.                            | 0 - 49.6                         |\n",
    "| nameDest        | object       | Recepient Id of the transaction                         | unique values specified to the transaction area             |\n",
    "| oldbalanceDest | float    | Initial Balance before trasaction      | 0 - 356m        |\n",
    "| newbalanceDest | float |  recipient's balance after the transaction.  | 0-356m |\n",
    "| isFraud | int | identifies a fraudulent transaction (1) and non fraudulent (0) | 0 - 1|\n",
    "\n",
    "* The target variable of the dataset is \"isFraud\" which will tell us whether the transaction is fraudulent or not dependign on the value of 0 and 1.\n",
    "* As of now, i am in a thought of considering all the columns but will make changes in the future depending on the EDA and further analysis. "
   ]
  }
 ],
 "metadata": {
  "kernelspec": {
   "display_name": "Python 3 (ipykernel)",
   "language": "python",
   "name": "python3"
  },
  "language_info": {
   "codemirror_mode": {
    "name": "ipython",
    "version": 3
   },
   "file_extension": ".py",
   "mimetype": "text/x-python",
   "name": "python",
   "nbconvert_exporter": "python",
   "pygments_lexer": "ipython3",
   "version": "3.11.4"
  }
 },
 "nbformat": 4,
 "nbformat_minor": 5
}
